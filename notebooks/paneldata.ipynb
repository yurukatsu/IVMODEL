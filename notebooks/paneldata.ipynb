{
 "cells": [
  {
   "cell_type": "markdown",
   "metadata": {},
   "source": [
    "# パネルデータの分析手法まとめ"
   ]
  },
  {
   "cell_type": "markdown",
   "metadata": {},
   "source": [
    "## パネルデータ分析"
   ]
  },
  {
   "cell_type": "markdown",
   "metadata": {},
   "source": [
    "### パネルデータとは"
   ]
  },
  {
   "cell_type": "markdown",
   "metadata": {},
   "source": [
    "観測値を特定する添え字に観察個体と時間のに2つがいる．\n",
    "$$\n",
    "\\left( Y_{it}, X_{1it}, \\ldots, X_{kit} \\right) \\quad i = 1, \\ldots, N, \\quad t = 1, \\ldots, T\n",
    "$$"
   ]
  },
  {
   "cell_type": "markdown",
   "metadata": {},
   "source": [
    "### プールした最小二乗法"
   ]
  },
  {
   "cell_type": "markdown",
   "metadata": {},
   "source": [
    "$N \\times T$のデータでOLSすることで，pooled OLSと呼ばれる：\n",
    "$$\n",
    "Y_{it} = \\beta_0 + \\beta_1 X_{1it} + \\cdots + \\beta_{k} X_{kit} + e_{it}\n",
    "$$"
   ]
  },
  {
   "cell_type": "markdown",
   "metadata": {},
   "source": [
    "### 固定効果モデル"
   ]
  },
  {
   "cell_type": "markdown",
   "metadata": {},
   "source": [
    "観察個体に依存する固定効果$\\alpha_i$を加える．\n",
    "$$\n",
    "Y_{it} = \\alpha_i + \\beta_1 X_{1it} + \\beta_2 X_{2it} + \\cdots + \\beta_k X_{kit} + u_{it}\n",
    "$$\n",
    "これは，\n",
    "$$\n",
    "\\bar{Y}_i = \\frac{1}{T}\\sum_{t=1}^T Y_{it}, \\quad \\bar{X}_{ki} = \\frac{1}{T}\\sum_{t=1}^T X_{kit}, \\bar{u}_i = \\frac{1}{T}\\sum_{t=1}^T u_{it}\n",
    "$$\n",
    "とすれば，\n",
    "$$\n",
    "Y_{it} - \\bar{Y}_i= \\sum_{l=1}^k \\beta_k \\left( X_{lit} - \\bar{X}_{kti} \\right) + u_{it} -\\bar{u}_{i}\n",
    "$$\n",
    "のように固定効果を消すことができ，（通常の）OLSとなる．\n",
    "$$\n",
    "\\dot{Y}_{it} = Y_{it} - \\bar{Y}_i\n",
    "$$\n",
    "は固定効果変換（fixed effects transformation）と呼ばれ，\n",
    "固定効果推定量は\n",
    "$$\n",
    "\\dot{\\beta}_{FE} = (\\dot{X}^\\prime \\dot{X})^{-1} \\dot{X}^\\prime \\dot{Y}\n",
    "$$\n",
    "ここで，$\\dot{X}_{it} = (\\dot{X}_{1it}, \\ldots, \\dot{X}_{kit})^\\prime$，$\\dot{X} = (\\dot{X}_{11}^\\prime, \\ldots, \\dot{X}_{N1}^\\prime, \\ldots, \\dot{X}_{1T}^\\prime, \\ldots, \\dot{X}_{NT}^\\prime)^\\prime$，$\\dot{Y}=(\\dot{Y}_{11}, \\ldots ,\\dot{Y}_{N1}, \\ldots, \\dot{Y}_{1T}, \\ldots, \\dot{Y}_{NT})^\\prime$，$\\dot{\\beta} = (\\dot{\\beta}_1, \\dot{\\beta}_2, \\ldots, \\dot{\\beta}_k)^\\prime$である．"
   ]
  },
  {
   "cell_type": "markdown",
   "metadata": {},
   "source": [
    "次のようなダミー変数\n",
    "$$\n",
    "{Dj}_{it} = \\left\\{\\begin{array}{cc} 1 & i = j \\\\ 0 & i \\ne j \\end{array}\\right.\n",
    "$$\n",
    "を定義して，固定効果モデルを\n",
    "$$\n",
    "Y_{it} = \\alpha_1 {D1}_{it} + \\cdots + \\alpha_N {DN}_{it} + \\beta_1 X_{1it} + \\beta_2 X_{2it} + \\cdots + \\beta_k X_{kit} + u_{it}\n",
    "$$\n",
    "と表現しても，同様のOLS推定量を得る．"
   ]
  },
  {
   "cell_type": "markdown",
   "metadata": {},
   "source": [
    "目的関数：\n",
    "$$\n",
    "Q \\left( \\alpha, \\beta \\right) = \\sum_{i=1}^{N} \\sum_{t=1}^{T} \\left( Y_{it} - \\alpha_1 {D1}_{it} - \\cdots - \\alpha_N {DN}_{it} - \\beta_1 X_{1it} - \\beta_2 X_{2it} - \\cdots - \\beta_k X_{kit} \\right)^2\n",
    "$$\n",
    "を最小することを考える．目的関数の$\\alpha_m$に関する偏微分は\n",
    "$$\n",
    "\\frac{\\partial Q}{\\partial \\alpha_m} = - 2 \\sum_{i=1}^{N} \\sum_{t=1}^{T} \\sum_{l=1}^k \\delta_{lm} {Dl} _{it} \\left( Y_{it} - \\alpha_1 {D1}_{it} - \\cdots - \\alpha_N {DN}_{it} - \\beta_1 X_{1it} - \\beta_2 X_{2it} - \\cdots - \\beta_k X_{kit} \\right)^2 \\\\\n",
    "= -2 \\sum_{t=1}^{T} (Y_{mt} - \\alpha_m - \\beta_1 X_{1mt} - \\beta_2 X_{2mt} - \\cdots - \\beta_k X_{kmt})\n",
    "$$\n",
    "であるため，\n",
    "$$\n",
    "\\hat{\\alpha}_m = \\bar{Y}_m - \\beta_1 \\bar{X}_{1m} - \\cdots - \\beta_k \\bar{X}_{km}\n",
    "$$\n",
    "となり，これを目的関数に代入すれば固定変換のものと一致する．"
   ]
  },
  {
   "cell_type": "markdown",
   "metadata": {},
   "source": [
    "### 時間効果モデル"
   ]
  },
  {
   "cell_type": "markdown",
   "metadata": {},
   "source": [
    "固定効果$\\alpha_i$を時間効果$\\lambda_t$に入れ替えただけ．\n",
    "$$\n",
    "Y_{it} = \\lambda_t + \\beta_1 X_{1it} + \\beta_2 X_{2it} + \\cdots + \\beta_k X_{kit} + u_{it}\n",
    "$$\n",
    "時間効果を消去して：\n",
    "$$\n",
    "Y_{it} - \\frac{1}{T}\\sum_{i=1}^N Y_{it}= \\sum_{l=1}^k \\beta_k \\left( X_{lit} - \\frac{1}{T}\\sum_{i=1}^N X_{lit}\\right) + u_{it} - \\frac{1}{T}\\sum_{i=1}^N u_{it}\n",
    "$$\n",
    "OLSするか，\n",
    "$$\n",
    "Y_{it} = \\lambda_1 {T1}_{it} + \\cdots + \\lambda_N {TN}_{it} + \\beta_1 X_{1it} + \\beta_2 X_{2it} + \\cdots + \\beta_k X_{kit} + u_{it}\n",
    "$$\n",
    "のようにダミー変数を導入すれば良い．"
   ]
  },
  {
   "cell_type": "markdown",
   "metadata": {},
   "source": [
    "### 固定効果と時間効果がある場合"
   ]
  },
  {
   "cell_type": "markdown",
   "metadata": {},
   "source": [
    "$$\n",
    "Y_{it} = \\alpha_i \\lambda_t + \\beta_1 X_{1it} + \\beta_2 X_{2it} + \\cdots + \\beta_k X_{kit} + u_{it}\n",
    "$$\n",
    "に対して，\n",
    "$$\n",
    "\\mathring{Y}_{it} = Y_{it} - \\frac{1}{N} \\sum_{i=1}^N Y_{it} - \\frac{1}{T} \\sum_{t=1}^T Y_{it} + \\frac{1}{NT} \\sum_{i=1}^N \\sum_{t=1}^T Y_{it}\n",
    "$$\n",
    "と変換すれば，\n",
    "$$\n",
    "\\mathring{Y}_{it} = \\beta_1 \\mathring{X}_{1it} + \\beta_2 \\mathring{X}_{2it} + \\cdots + \\beta_k \\mathring{X}_{kit} + \\mathring{u}_{it}\n",
    "$$\n",
    "または，フラグ変数をつけるか．"
   ]
  },
  {
   "cell_type": "markdown",
   "metadata": {},
   "source": [
    "### unbalanced data"
   ]
  },
  {
   "cell_type": "markdown",
   "metadata": {},
   "source": [
    "- 観測個体ごとに観測期間が異なる．\n",
    "- LSDVだとあまり気にしなくていい"
   ]
  },
  {
   "cell_type": "markdown",
   "metadata": {},
   "source": [
    "## 実装"
   ]
  },
  {
   "cell_type": "markdown",
   "metadata": {},
   "source": [
    "### データ生成"
   ]
  },
  {
   "cell_type": "markdown",
   "metadata": {},
   "source": [
    "#### 設定"
   ]
  },
  {
   "cell_type": "markdown",
   "metadata": {},
   "source": [
    "- リターンは次の式に従う：\n",
    "  $$\n",
    "  \\Delta S_{it} = \\beta Y_{it} + \\gamma_1 X_{1it} + \\gamma_2 X_{2it} + \\gamma_3 X_{3it} + \\lambda_t + \\eta_{it} \\quad i = 1, \\ldots, N, \\quad t = 1, \\ldots, T_i\n",
    "  $$\n",
    "- ESGスコアは次の式に從う：\n",
    "  $$\n",
    "  s_{kit} = Y_{it} +  \\epsilon_{kit} \\quad (k = 1, \\ldots, 5)\n",
    "  $$\n",
    "- 分布\n",
    "  - $N = 500$\n",
    "  - $T_i = 50 + \\tau_i$\n",
    "    - $\\tau_i = 0$\n",
    "    - $\\tau_i \\in \\{ i \\mid -5 \\le i \\le 5\\}$\n",
    "  - $\\beta= 0.5$\n",
    "  - $Y_{it} \\sim N(0, 1)$\n",
    "  - $\\gamma_1 = 0.1, \\gamma_2 = 0.2, \\gamma_3 = 0.4$\n",
    "  - $X_{kit} \\sim N(0, 1) \\quad (k = 1, 2, 3)$\n",
    "  - $\\lambda_t \\sim N(0, 4)$\n",
    "  - $\\eta_{it} \\sim N(0, 100)$\n",
    "  - $\\epsilon_{1it} \\sim N \\left(0, 25 \\right)$\n",
    "  - $\\epsilon_{2it} \\sim N \\left(0, 9 \\right)$\n",
    "  - $\\epsilon_{3it} \\sim N \\left(0, 1 \\right)$\n",
    "  - $\\epsilon_{4it} \\sim N \\left(0, 4 \\right)$\n",
    "  - $\\epsilon_{5it} \\sim N \\left(0, 1 \\right)$\n",
    "- 共分散\n",
    "  - シミュレーション1では$-0.7 \\le \\mathrm{corr} \\left(\\epsilon_{1}, \\eta \\right) \\le 0.7$\n",
    "  - シミュレーション1では$-0.7 \\le \\mathrm{corr} \\left(\\epsilon_{1}, \\epsilon_{3} \\right) \\le 0.7$"
   ]
  },
  {
   "cell_type": "markdown",
   "metadata": {},
   "source": [
    "#### 作成"
   ]
  },
  {
   "cell_type": "code",
   "execution_count": 5,
   "metadata": {},
   "outputs": [],
   "source": [
    "import numpy as np\n",
    "import pandas as pd\n",
    "import matplotlib.pyplot as plt\n",
    "import seaborn as sns"
   ]
  },
  {
   "cell_type": "code",
   "execution_count": 277,
   "metadata": {},
   "outputs": [],
   "source": [
    "class Score():\n",
    "    def __init__(self, N=1000, T=100, balanced=False, beta=0.5, gamma1=0.1, gamma2=0.2, gamma3=0.4) -> None:\n",
    "        self.N = N # 観察個体数\n",
    "        self.T = T*np.ones(N, dtype=int) if balanced else T + np.random.randint(low=-5, high=6, size=N) # 観測期間\n",
    "        self.balanced = balanced # 欠損データ判別\n",
    "        self.beta = beta\n",
    "        self.gamma1 = gamma1\n",
    "        self.gamma2 = gamma2\n",
    "        self.gamma3 = gamma3\n",
    "        self.variables_wo_eps1 = self._generate_variables_wo_eps1()\n",
    "    \n",
    "    def _generate_variables_wo_eps1(self):\n",
    "        res = []\n",
    "        for t in range(1, self.T.max()+1):\n",
    "            df_tmp = pd.DataFrame()\n",
    "            df_tmp[\"NO\"] = np.array(range(self.N)) + 1\n",
    "            df_tmp[\"T\"] = t\n",
    "            df_tmp[\"T_FLAG\"] = (self.T > t-1)\n",
    "            df_tmp[\"Y\"] = np.random.normal(loc=0, scale=1, size=self.N)\n",
    "            df_tmp[\"X1\"] = np.random.normal(loc=0, scale=1, size=self.N)\n",
    "            df_tmp[\"X2\"] = np.random.normal(loc=0, scale=1, size=self.N)\n",
    "            df_tmp[\"X3\"] = np.random.normal(loc=0, scale=1, size=self.N)\n",
    "            df_tmp[\"ETA\"] = np.random.normal(loc=0, scale=10, size=self.N)\n",
    "            df_tmp[\"EPS2\"] = np.random.normal(loc=0, scale=3, size=self.N)\n",
    "            df_tmp[\"EPS3\"] = np.random.normal(loc=0, scale=1, size=self.N)\n",
    "            df_tmp[\"EPS4\"] = np.random.normal(loc=0, scale=2, size=self.N)\n",
    "            df_tmp[\"EPS5\"] = np.random.normal(loc=0, scale=1, size=self.N)\n",
    "            df_tmp[\"LAMBDA\"] = np.random.normal(loc=0, scale=2, size=1)[0]\n",
    "            df_tmp[f\"T{t}\"] = 1\n",
    "            res.append(df_tmp)\n",
    "        df = pd.concat(res, axis=0).query(\"T_FLAG == True\").drop([\"T_FLAG\"], axis=1)\n",
    "        return df.reindex(columns=[\"T\", \"NO\"]+df.drop([\"T\", \"NO\"], axis=1).columns.to_list()).fillna(0)\n",
    "\n",
    "    def get_variables(self, corr, std=5, axis=\"eta\"):\n",
    "        dict_std = {\"eta\":10, \"eps3\":1}\n",
    "        df = self.variables_wo_eps1.copy()\n",
    "        tmp = np.random.normal(loc=0, scale=dict_std[axis], size=len(df))\n",
    "        df[\"EPS1\"] = (std/dict_std[axis])*(corr*df[axis.upper()] + np.sqrt(1-corr**2)*tmp)\n",
    "        first_columns = ['T', 'NO', 'Y', 'X1', 'X2', 'X3', 'ETA']\n",
    "        return df.reindex(columns=['T', 'NO', 'Y', 'X1', 'X2', 'X3', 'ETA','EPS1']+df.drop(['T', 'NO', 'Y', 'X1', 'X2', 'X3', 'ETA', 'EPS1'], axis=1).columns.to_list())\n",
    "\n",
    "    def get_score(self, corr, std=5, axis=\"eta\"):\n",
    "        df = self.get_variables(corr, std=std, axis=axis)\n",
    "        df[\"RET\"] = self.beta*df[\"Y\"] + self.gamma1*df[\"X1\"] + self.gamma2*df[\"X2\"] + self.gamma3*df[\"X3\"] + df[\"ETA\"] + df[\"LAMBDA\"]\n",
    "        for k in range(1, 6):\n",
    "            df[f\"S{k}\"] = df[\"Y\"] + df[f\"EPS{k}\"]\n",
    "        return df.drop(\"T\", axis=1)[[\"NO\", \"RET\", \"X1\", \"X2\", \"X3\"] + [f\"S{k}\" for k in range(1, 6)] + [c for c in df.columns if (\"T\" in c) and (c not in [\"T\", \"RET\", \"ETA\"])]]"
   ]
  },
  {
   "cell_type": "code",
   "execution_count": 288,
   "metadata": {},
   "outputs": [
    {
     "data": {
      "text/html": [
       "<div>\n",
       "<style scoped>\n",
       "    .dataframe tbody tr th:only-of-type {\n",
       "        vertical-align: middle;\n",
       "    }\n",
       "\n",
       "    .dataframe tbody tr th {\n",
       "        vertical-align: top;\n",
       "    }\n",
       "\n",
       "    .dataframe thead th {\n",
       "        text-align: right;\n",
       "    }\n",
       "</style>\n",
       "<table border=\"1\" class=\"dataframe\">\n",
       "  <thead>\n",
       "    <tr style=\"text-align: right;\">\n",
       "      <th></th>\n",
       "      <th>NO</th>\n",
       "      <th>RET</th>\n",
       "      <th>X1</th>\n",
       "      <th>X2</th>\n",
       "      <th>X3</th>\n",
       "      <th>S1</th>\n",
       "      <th>S2</th>\n",
       "      <th>S3</th>\n",
       "      <th>S4</th>\n",
       "      <th>S5</th>\n",
       "      <th>...</th>\n",
       "      <th>T46</th>\n",
       "      <th>T47</th>\n",
       "      <th>T48</th>\n",
       "      <th>T49</th>\n",
       "      <th>T50</th>\n",
       "      <th>T51</th>\n",
       "      <th>T52</th>\n",
       "      <th>T53</th>\n",
       "      <th>T54</th>\n",
       "      <th>T55</th>\n",
       "    </tr>\n",
       "  </thead>\n",
       "  <tbody>\n",
       "    <tr>\n",
       "      <th>0</th>\n",
       "      <td>1</td>\n",
       "      <td>9.127637</td>\n",
       "      <td>0.009475</td>\n",
       "      <td>-0.092534</td>\n",
       "      <td>-0.780972</td>\n",
       "      <td>8.090837</td>\n",
       "      <td>-4.004778</td>\n",
       "      <td>-2.699010</td>\n",
       "      <td>-0.812628</td>\n",
       "      <td>0.530322</td>\n",
       "      <td>...</td>\n",
       "      <td>0.0</td>\n",
       "      <td>0.0</td>\n",
       "      <td>0.0</td>\n",
       "      <td>0.0</td>\n",
       "      <td>0.0</td>\n",
       "      <td>0.0</td>\n",
       "      <td>0.0</td>\n",
       "      <td>0.0</td>\n",
       "      <td>0.0</td>\n",
       "      <td>0.0</td>\n",
       "    </tr>\n",
       "    <tr>\n",
       "      <th>1</th>\n",
       "      <td>2</td>\n",
       "      <td>-2.029487</td>\n",
       "      <td>-0.591079</td>\n",
       "      <td>0.601524</td>\n",
       "      <td>1.273318</td>\n",
       "      <td>-0.358820</td>\n",
       "      <td>1.447604</td>\n",
       "      <td>-1.596366</td>\n",
       "      <td>1.431659</td>\n",
       "      <td>-2.672960</td>\n",
       "      <td>...</td>\n",
       "      <td>0.0</td>\n",
       "      <td>0.0</td>\n",
       "      <td>0.0</td>\n",
       "      <td>0.0</td>\n",
       "      <td>0.0</td>\n",
       "      <td>0.0</td>\n",
       "      <td>0.0</td>\n",
       "      <td>0.0</td>\n",
       "      <td>0.0</td>\n",
       "      <td>0.0</td>\n",
       "    </tr>\n",
       "    <tr>\n",
       "      <th>2</th>\n",
       "      <td>3</td>\n",
       "      <td>9.879781</td>\n",
       "      <td>1.756292</td>\n",
       "      <td>0.853976</td>\n",
       "      <td>-0.178775</td>\n",
       "      <td>-4.047682</td>\n",
       "      <td>-0.374561</td>\n",
       "      <td>0.402001</td>\n",
       "      <td>0.574828</td>\n",
       "      <td>-0.681423</td>\n",
       "      <td>...</td>\n",
       "      <td>0.0</td>\n",
       "      <td>0.0</td>\n",
       "      <td>0.0</td>\n",
       "      <td>0.0</td>\n",
       "      <td>0.0</td>\n",
       "      <td>0.0</td>\n",
       "      <td>0.0</td>\n",
       "      <td>0.0</td>\n",
       "      <td>0.0</td>\n",
       "      <td>0.0</td>\n",
       "    </tr>\n",
       "    <tr>\n",
       "      <th>3</th>\n",
       "      <td>4</td>\n",
       "      <td>7.711274</td>\n",
       "      <td>0.765475</td>\n",
       "      <td>-2.916847</td>\n",
       "      <td>1.162376</td>\n",
       "      <td>4.716909</td>\n",
       "      <td>-1.350207</td>\n",
       "      <td>2.262182</td>\n",
       "      <td>-4.154375</td>\n",
       "      <td>1.103291</td>\n",
       "      <td>...</td>\n",
       "      <td>0.0</td>\n",
       "      <td>0.0</td>\n",
       "      <td>0.0</td>\n",
       "      <td>0.0</td>\n",
       "      <td>0.0</td>\n",
       "      <td>0.0</td>\n",
       "      <td>0.0</td>\n",
       "      <td>0.0</td>\n",
       "      <td>0.0</td>\n",
       "      <td>0.0</td>\n",
       "    </tr>\n",
       "    <tr>\n",
       "      <th>4</th>\n",
       "      <td>5</td>\n",
       "      <td>3.914554</td>\n",
       "      <td>0.271358</td>\n",
       "      <td>-0.433086</td>\n",
       "      <td>-0.426641</td>\n",
       "      <td>3.025332</td>\n",
       "      <td>0.618369</td>\n",
       "      <td>-1.862149</td>\n",
       "      <td>2.062816</td>\n",
       "      <td>-0.148395</td>\n",
       "      <td>...</td>\n",
       "      <td>0.0</td>\n",
       "      <td>0.0</td>\n",
       "      <td>0.0</td>\n",
       "      <td>0.0</td>\n",
       "      <td>0.0</td>\n",
       "      <td>0.0</td>\n",
       "      <td>0.0</td>\n",
       "      <td>0.0</td>\n",
       "      <td>0.0</td>\n",
       "      <td>0.0</td>\n",
       "    </tr>\n",
       "  </tbody>\n",
       "</table>\n",
       "<p>5 rows × 65 columns</p>\n",
       "</div>"
      ],
      "text/plain": [
       "   NO       RET        X1        X2        X3        S1        S2        S3  \\\n",
       "0   1  9.127637  0.009475 -0.092534 -0.780972  8.090837 -4.004778 -2.699010   \n",
       "1   2 -2.029487 -0.591079  0.601524  1.273318 -0.358820  1.447604 -1.596366   \n",
       "2   3  9.879781  1.756292  0.853976 -0.178775 -4.047682 -0.374561  0.402001   \n",
       "3   4  7.711274  0.765475 -2.916847  1.162376  4.716909 -1.350207  2.262182   \n",
       "4   5  3.914554  0.271358 -0.433086 -0.426641  3.025332  0.618369 -1.862149   \n",
       "\n",
       "         S4        S5  ...  T46  T47  T48  T49  T50  T51  T52  T53  T54  T55  \n",
       "0 -0.812628  0.530322  ...  0.0  0.0  0.0  0.0  0.0  0.0  0.0  0.0  0.0  0.0  \n",
       "1  1.431659 -2.672960  ...  0.0  0.0  0.0  0.0  0.0  0.0  0.0  0.0  0.0  0.0  \n",
       "2  0.574828 -0.681423  ...  0.0  0.0  0.0  0.0  0.0  0.0  0.0  0.0  0.0  0.0  \n",
       "3 -4.154375  1.103291  ...  0.0  0.0  0.0  0.0  0.0  0.0  0.0  0.0  0.0  0.0  \n",
       "4  2.062816 -0.148395  ...  0.0  0.0  0.0  0.0  0.0  0.0  0.0  0.0  0.0  0.0  \n",
       "\n",
       "[5 rows x 65 columns]"
      ]
     },
     "execution_count": 288,
     "metadata": {},
     "output_type": "execute_result"
    }
   ],
   "source": [
    "score = Score(N=1000, T=50, balanced=False).get_score(0.1)\n",
    "score.head()"
   ]
  },
  {
   "cell_type": "markdown",
   "metadata": {},
   "source": [
    "### モデル"
   ]
  },
  {
   "cell_type": "code",
   "execution_count": 289,
   "metadata": {},
   "outputs": [],
   "source": [
    "from linearmodels.iv import IV2SLS, compare"
   ]
  },
  {
   "cell_type": "code",
   "execution_count": 291,
   "metadata": {},
   "outputs": [],
   "source": [
    "df = Score(N=1000, T=50, balanced=False).get_score(0.0)\n",
    "model = IV2SLS(\n",
    "    df[\"RET\"], \n",
    "    df[[\"X1\", \"X2\", \"X3\"]+[c for c in df.columns if (\"T\" in c) and (c not in [\"RET\"])]], \n",
    "    df[[\"S1\"]], \n",
    "    df[[\"S2\", \"S3\", \"S4\", \"S5\"]])"
   ]
  },
  {
   "cell_type": "code",
   "execution_count": 295,
   "metadata": {},
   "outputs": [],
   "source": [
    "res = model.fit(cov_type=\"kernel\", kernel=\"bartlett\")"
   ]
  },
  {
   "cell_type": "code",
   "execution_count": 296,
   "metadata": {},
   "outputs": [
    {
     "name": "stdout",
     "output_type": "stream",
     "text": [
      "                          IV-2SLS Estimation Summary                          \n",
      "==============================================================================\n",
      "Dep. Variable:                    RET   R-squared:                     -0.0190\n",
      "Estimator:                    IV-2SLS   Adj. R-squared:                -0.0202\n",
      "No. Observations:               50078   F-statistic:                    2623.3\n",
      "Date:                Sat, Jan 15 2022   P-value (F-stat)                0.0000\n",
      "Time:                        20:54:31   Distribution:                 chi2(59)\n",
      "Cov. Estimator:                kernel                                         \n",
      "                                                                              \n",
      "                             Parameter Estimates                              \n",
      "==============================================================================\n",
      "            Parameter  Std. Err.     T-stat    P-value    Lower CI    Upper CI\n",
      "------------------------------------------------------------------------------\n",
      "X1             0.1429     0.0463     3.0852     0.0020      0.0521      0.2337\n",
      "X2             0.1670     0.0463     3.6040     0.0003      0.0762      0.2578\n",
      "X3             0.4199     0.0467     8.9908     0.0000      0.3284      0.5115\n",
      "T1            -1.3587     0.3085    -4.4047     0.0000     -1.9632     -0.7541\n",
      "T2             4.1655     0.2969     14.029     0.0000      3.5835      4.7474\n",
      "T3             1.9814     0.3600     5.5032     0.0000      1.2757      2.6871\n",
      "T4            -0.9120     0.3070    -2.9709     0.0030     -1.5137     -0.3103\n",
      "T5            -1.0182     0.3574    -2.8493     0.0044     -1.7187     -0.3178\n",
      "T6            -3.4281     0.3421    -10.020     0.0000     -4.0986     -2.7575\n",
      "T7             1.0202     0.3528     2.8917     0.0038      0.3287      1.7116\n",
      "T8             1.5703     0.2993     5.2469     0.0000      0.9837      2.1569\n",
      "T9            -1.4872     0.3051    -4.8743     0.0000     -2.0852     -0.8892\n",
      "T10           -0.5711     0.3492    -1.6357     0.1019     -1.2555      0.1132\n",
      "T11            0.0785     0.3077     0.2550     0.7987     -0.5246      0.6816\n",
      "T12           -3.2605     0.2244    -14.528     0.0000     -3.7004     -2.8206\n",
      "T13           -2.2370     0.3113    -7.1850     0.0000     -2.8473     -1.6268\n",
      "T14           -5.3406     0.3423    -15.602     0.0000     -6.0114     -4.6697\n",
      "T15            4.0954     0.3320     12.335     0.0000      3.4447      4.7461\n",
      "T16            2.0271     0.3056     6.6331     0.0000      1.4281      2.6261\n",
      "T17            1.3809     0.3157     4.3733     0.0000      0.7620      1.9997\n",
      "T18            1.0750     0.3068     3.5042     0.0005      0.4737      1.6762\n",
      "T19            0.4882     0.3106     1.5717     0.1160     -0.1206      1.0970\n",
      "T20           -4.7354     0.3595    -13.174     0.0000     -5.4399     -4.0308\n",
      "T21            1.2099     0.3412     3.5461     0.0004      0.5412      1.8786\n",
      "T22           -0.9303     0.3453    -2.6944     0.0071     -1.6071     -0.2536\n",
      "T23            1.2868     0.2746     4.6866     0.0000      0.7486      1.8249\n",
      "T24           -0.2338     0.3453    -0.6770     0.4984     -0.9105      0.4430\n",
      "T25            1.3247     0.2913     4.5476     0.0000      0.7537      1.8956\n",
      "T26           -0.3066     0.3446    -0.8896     0.3737     -0.9820      0.3689\n",
      "T27           -2.7359     0.2693    -10.158     0.0000     -3.2638     -2.2081\n",
      "T28           -3.0030     0.3874    -7.7510     0.0000     -3.7623     -2.2436\n",
      "T29            2.7789     0.2855     9.7326     0.0000      2.2193      3.3386\n",
      "T30            0.1207     0.3763     0.3208     0.7484     -0.6168      0.8581\n",
      "T31            1.1060     0.3514     3.1479     0.0016      0.4174      1.7947\n",
      "T32           -3.7843     0.2800    -13.515     0.0000     -4.3331     -3.2355\n",
      "T33           -1.3319     0.2855    -4.6649     0.0000     -1.8914     -0.7723\n",
      "T34            2.1851     0.3384     6.4571     0.0000      1.5218      2.8483\n",
      "T35            1.6549     0.3009     5.4998     0.0000      1.0651      2.2446\n",
      "T36            1.0940     0.3365     3.2508     0.0012      0.4344      1.7535\n",
      "T37            0.8784     0.3257     2.6970     0.0070      0.2400      1.5168\n",
      "T38            3.1991     0.3303     9.6846     0.0000      2.5517      3.8466\n",
      "T39            0.5765     0.2551     2.2604     0.0238      0.0766      1.0764\n",
      "T40            1.0537     0.2791     3.7760     0.0002      0.5068      1.6007\n",
      "T41            1.7728     0.3594     4.9324     0.0000      1.0683      2.4772\n",
      "T42            0.5357     0.3531     1.5171     0.1292     -0.1564      1.2277\n",
      "T43            0.7818     0.3478     2.2481     0.0246      0.1002      1.4634\n",
      "T44            0.3229     0.2928     1.1030     0.2700     -0.2509      0.8967\n",
      "T45            1.0208     0.3243     3.1473     0.0016      0.3851      1.6565\n",
      "T46            0.0917     0.3733     0.2456     0.8060     -0.6399      0.8233\n",
      "T47            3.7585     0.3506     10.720     0.0000      3.0713      4.4457\n",
      "T48           -1.5790     0.3403    -4.6401     0.0000     -2.2459     -0.9120\n",
      "T49            0.9059     0.3444     2.6307     0.0085      0.2310      1.5809\n",
      "T50            3.6581     0.3734     9.7962     0.0000      2.9262      4.3900\n",
      "T51            0.7631     0.4711     1.6196     0.1053     -0.1604      1.6865\n",
      "T52           -2.5376     0.3960    -6.4082     0.0000     -3.3137     -1.7615\n",
      "T53            1.3547     0.4794     2.8259     0.0047      0.4151      2.2943\n",
      "T54           -4.4057     0.6024    -7.3135     0.0000     -5.5864     -3.2250\n",
      "T55           -1.1045     0.8060    -1.3704     0.1706     -2.6843      0.4752\n",
      "S1             0.5122     0.0553     9.2645     0.0000      0.4038      0.6205\n",
      "==============================================================================\n",
      "\n",
      "Endogenous: S1\n",
      "Instruments: S2, S3, S4, S5\n",
      "Kernel Covariance (HAC)\n",
      "Debiased: False\n",
      "Kernel: bartlett\n",
      "Automatic Bandwidth: True\n",
      "Bandwidth: 25\n"
     ]
    }
   ],
   "source": [
    "print(res)"
   ]
  },
  {
   "cell_type": "code",
   "execution_count": 297,
   "metadata": {},
   "outputs": [
    {
     "data": {
      "text/plain": [
       "Wu-Hausman test of exogeneity\n",
       "H0: All endogenous variables are exogenous\n",
       "Statistic: 94.2520\n",
       "P-value: 0.0000\n",
       "Distributed: F(1,50018)\n",
       "WaldTestStatistic, id: 0x7f7ed8762d30"
      ]
     },
     "execution_count": 297,
     "metadata": {},
     "output_type": "execute_result"
    }
   ],
   "source": [
    "res.wu_hausman()"
   ]
  },
  {
   "cell_type": "code",
   "execution_count": 298,
   "metadata": {},
   "outputs": [
    {
     "data": {
      "text/plain": [
       "Sargan's test of overidentification\n",
       "H0: The model is not overidentified.\n",
       "Statistic: 0.4686\n",
       "P-value: 0.9257\n",
       "Distributed: chi2(3)\n",
       "WaldTestStatistic, id: 0x7f7ece87ecd0"
      ]
     },
     "execution_count": 298,
     "metadata": {},
     "output_type": "execute_result"
    }
   ],
   "source": [
    "res.sargan"
   ]
  },
  {
   "cell_type": "code",
   "execution_count": null,
   "metadata": {},
   "outputs": [],
   "source": []
  }
 ],
 "metadata": {
  "interpreter": {
   "hash": "1525a71fafc7eee40361b3f37aa0fd7f8d476dcedffbb6bff35e7e2ca3926152"
  },
  "kernelspec": {
   "display_name": "Python 3 (ipykernel)",
   "language": "python",
   "name": "python3"
  },
  "language_info": {
   "codemirror_mode": {
    "name": "ipython",
    "version": 3
   },
   "file_extension": ".py",
   "mimetype": "text/x-python",
   "name": "python",
   "nbconvert_exporter": "python",
   "pygments_lexer": "ipython3",
   "version": "3.8.10"
  }
 },
 "nbformat": 4,
 "nbformat_minor": 2
}
