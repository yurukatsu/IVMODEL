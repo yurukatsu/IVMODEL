{
 "cells": [
  {
   "cell_type": "markdown",
   "metadata": {},
   "source": [
    "# 線形回帰（OLS）\n",
    "\n",
    "\n"
   ]
  },
  {
   "cell_type": "markdown",
   "metadata": {},
   "source": [
    "## 概要"
   ]
  },
  {
   "cell_type": "markdown",
   "metadata": {},
   "source": [
    "\n",
    "目的変数を$Y_i$，$k$個の説明変数を$X_{ki}$として,\n",
    "$$\n",
    "Y_i = \\beta_0 + \\sum_{j = 1}^k \\beta_j X_{ji} + u_i, \\quad i=1,\\ldots N\n",
    "$$\n",
    "ここで，$(\\beta_0, \\beta_1, \\ldots, \\beta_k)$は回帰係数である．\n",
    "\n",
    "回帰係数は目的関数\n",
    "$$\n",
    "\\sum_{i = 1}^{N} \\left( Y_i - \\beta_0 - \\sum_{j = 1}^k \\beta_j X_{ji}\\right)^2\n",
    "$$\n",
    "を最小化するように推定され，そのときの回帰係数はOLS推定量と呼ばれる．"
   ]
  },
  {
   "cell_type": "markdown",
   "metadata": {},
   "source": [
    "## OLS推定のための仮定"
   ]
  },
  {
   "cell_type": "markdown",
   "metadata": {},
   "source": [
    "1. [i.i.d]\n",
    "2. [Exogenous]\n",
    "   \n",
    "   $$\n",
    "   E \\left(u_i \\mid X_{1,i}, \\ldots, X_{i, k} \\right) = 0\n",
    "   $$\n",
    "3. [異常値がない]\n",
    "4. [多重共変性がない]\n",
    "\n",
    "   $$\n",
    "   E \\left[ \\left(a_0 + \\sum_{j=1}^{k} a_j X_{ji} \\right)^2 \\right] > 0 \\quad \\forall a_0, \\ldots, a_k \\text{ s.t. } \\sum_{j=0}^{k} a_j^2 = 1\n",
    "   $$"
   ]
  },
  {
   "cell_type": "markdown",
   "metadata": {},
   "source": [
    "## OLS推定量の導出"
   ]
  },
  {
   "cell_type": "markdown",
   "metadata": {},
   "source": [
    "$X_i = (1, X_{1i, }\\ldots, X_{ki})^\\prime$，$X = (X_1^\\prime, \\ldots, X_N^\\prime)^\\prime$，$Y=(Y_1, \\ldots Y_N)^\\prime$，$\\beta = (\\beta_0, \\beta_1, \\ldots, \\beta_N)^\\prime$とする．このとき，目的関数は\n",
    "$$\n",
    "Q(\\beta) = (Y - X\\beta)^\\prime (Y - X \\beta)\n",
    "$$\n",
    "と書ける．\n",
    "$$\n",
    "\\frac{\\partial Q(\\beta)}{\\partial \\beta} = -2 X^\\prime (Y - X \\beta), \\quad \\frac{\\partial^2 Q(\\beta)}{\\partial \\beta^2} = 2 X^\\prime X > 0 \n",
    "$$\n",
    "であるため，OLS推定量は\n",
    "$$\n",
    "\\hat{\\beta} = (X^\\prime X)^{-1} X^\\prime Y\n",
    "$$\n",
    "と求まる．"
   ]
  },
  {
   "cell_type": "markdown",
   "metadata": {},
   "source": [
    "## OLS推定量の一致性と漸近正規性"
   ]
  },
  {
   "cell_type": "markdown",
   "metadata": {},
   "source": [
    "[一致性]\n",
    "\n",
    "$u = (u_1, \\ldots, u_N)^\\prime$として，$Y = X \\beta + u$をOLS推定量$\\hat{\\beta}$に代入する：\n",
    "$$\n",
    "\\hat{\\beta} = \\beta + \\left( \\frac{1}{N} X^\\prime X \\right)^{-1} \\frac{1}{N} X^\\prime u.\n",
    "$$\n",
    "大数の法則より，\n",
    "$$\n",
    "\\frac{1}{N} X^\\prime X = \\frac{1}{N} \\sum_i X_iX_i^\\prime  \\xrightarrow{p} E \\left(X_iX_i^\\prime \\right) > 0 \\quad (\\because \\text{多重共変性がない})\n",
    "$$\n",
    "$$\n",
    "\\frac{1}{N} X^\\prime u = \\frac{1}{N} \\sum_{i=1}^{N} X_i u_i \\xrightarrow{p} E(X_i u_i) = 0 \\quad (\\because \\text{外生性})\n",
    "$$\n",
    "となり，OLS推移定量$\\hat{\\beta}$は一致性を持つ．"
   ]
  },
  {
   "cell_type": "markdown",
   "metadata": {},
   "source": [
    "[漸近正規性]\n",
    "\n",
    "$$\n",
    "\\sqrt{N} \\left( \\hat{\\beta} - \\beta \\right) = \\left( \\frac{1}{N} X^\\prime X \\right)^{-1} \\frac{1}{\\sqrt{N}} X^\\prime u.\n",
    "$$\n",
    "$X_i$の外生性より，$E\\left(X_i u_i\\right) = 0$，$Var\\left(X_i u_i\\right) = E \\left( u_i^2 X_i X_i^\\prime \\right)$なので，中心極限定理から，\n",
    "$$\n",
    "\\sqrt{N} \\left( \\hat{\\beta} - \\beta \\right) \\xrightarrow{d} \\left[ E \\left(X_iX_i^\\prime \\right) \\right]^{-1} N\\left(0, E \\left( u_i^2 X_i X_i^\\prime \\right)\\right) = N\\left(0, \\left[ E \\left(X_iX_i^\\prime \\right) \\right]^{-1} E \\left( u_i^2 X_i X_i^\\prime \\right) \\left[ E \\left(X_iX_i^\\prime \\right) \\right]^{-1} \\right)  = N(0, V)\n",
    "$$\n",
    "が得られる．\n",
    "この表現を用いて，漸近分散$V$は\n",
    "$$\n",
    "\\hat{V} = \\left( \\frac{1}{N} X^\\prime X \\right)^{-1} \\frac{1}{N} X^\\prime \\hat{U} X \\left( \\frac{1}{N} X^\\prime X \\right)^{-1}, \\quad \\hat{U} = \\mathrm{diag} \\left( \\hat{u}_1^2, \\ldots, \\hat{u}_N^2 \\right)\n",
    "$$\n",
    "を用いて推定でき，$\\hat{V}$は$V$の一致推定量となる．"
   ]
  },
  {
   "cell_type": "markdown",
   "metadata": {},
   "source": [
    "## 実装"
   ]
  },
  {
   "cell_type": "code",
   "execution_count": 4,
   "metadata": {},
   "outputs": [],
   "source": [
    "import pandas as pd\n",
    "import linearmodels\n",
    "import statsmodels.api as sm"
   ]
  },
  {
   "cell_type": "code",
   "execution_count": null,
   "metadata": {},
   "outputs": [],
   "source": []
  }
 ],
 "metadata": {
  "interpreter": {
   "hash": "1525a71fafc7eee40361b3f37aa0fd7f8d476dcedffbb6bff35e7e2ca3926152"
  },
  "kernelspec": {
   "display_name": "Python 3 (ipykernel)",
   "language": "python",
   "name": "python3"
  },
  "language_info": {
   "codemirror_mode": {
    "name": "ipython",
    "version": 3
   },
   "file_extension": ".py",
   "mimetype": "text/x-python",
   "name": "python",
   "nbconvert_exporter": "python",
   "pygments_lexer": "ipython3",
   "version": "3.8.10"
  }
 },
 "nbformat": 4,
 "nbformat_minor": 2
}
