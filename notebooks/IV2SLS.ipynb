{
 "cells": [
  {
   "cell_type": "markdown",
   "id": "0a630756",
   "metadata": {},
   "source": [
    "# 一般化モーメント法（2SLS含む）"
   ]
  },
  {
   "cell_type": "markdown",
   "id": "9307cfcd",
   "metadata": {},
   "source": [
    "## モーメント法"
   ]
  },
  {
   "cell_type": "markdown",
   "id": "e0d097f3",
   "metadata": {},
   "source": [
    "確率変数$X$の分布が$k$次元の未知パラメタ$\\theta$を含んでいるとし，\n",
    "$$\n",
    "\\mathrm{E} \\left[ m \\left( X, \\theta \\right) \\right] = \\mathrm{E} \\left[\\begin{array}{c}\n",
    "m_1 \\left( X, \\theta \\right) \\\\\n",
    "\\vdots \\\\\n",
    "m_k \\left( X, \\theta \\right)\n",
    "\\end{array}\\right] = 0\n",
    "$$\n",
    "を満たす$k$個の関数$m_1 \\left( \\cdot, \\cdot \\right), \\ldots m_k \\left( \\cdot, \\cdot \\right)$が存在したとする．\n",
    "\n",
    "標本$\\left\\{ X_1, \\ldots, X_N \\right\\}$が得られたとき，$\\theta$のモメント法推定量$\\hat{\\theta}$は\n",
    "$$\n",
    "\\frac{1}{N} \\sum_{i=1}^{N} m \\left( X_i, \\hat{\\theta} \\right)\n",
    "$$\n",
    "により定義される．\n",
    "大数の法則より\n",
    "$$\n",
    "\\frac{1}{N} \\sum_{i=1}^{N} m \\left( X_i, \\hat{\\theta} \\right) \\xrightarrow{p} \\mathrm{E} \\left[ m \\left( X, \\theta \\right) \\right] \n",
    "$$\n",
    "が成立するので，期待値を標本平均に置き換えて，その方程式を$\\theta$に関して解くという考え方である．"
   ]
  },
  {
   "cell_type": "markdown",
   "id": "18d0022f",
   "metadata": {},
   "source": [
    "## 一般化モーメント法（Generalized method of moments ）"
   ]
  },
  {
   "cell_type": "markdown",
   "id": "26a76482",
   "metadata": {},
   "source": [
    "モーメント法では，未知パラメタの数とモーメント条件の数が等しい．これを一般化して，$\\theta$を$k \\times 1$次元のパラメタのベクトルで，$L > k$個のモーメント条件\n",
    "$$\n",
    "\\mathrm{E} \\left[ m \\left( X, \\theta \\right) \\right] = \\mathrm{E} \\left[\\begin{array}{c}\n",
    "m_1 \\left( X, \\theta \\right) \\\\\n",
    "\\vdots \\\\\n",
    "m_L \\left( X, \\theta \\right)\n",
    "\\end{array}\\right] = 0\n",
    "$$\n",
    "があるとしよう．\n",
    "このとき，一般に解は存在しなく，そのうち$k$本の式のみを用いてちょうど解が求められるようにすることが考えられる．しかし，用いる方程式の選び方によって一般に解は異なり，恣意性が生じる．\n",
    "そこで，\n",
    "$$\n",
    "Q_N \\left( \\theta \\right) = \\left[ \\frac{1}{N} \\sum_{i=1}^{N} m \\left( X_i, \\theta \\right) \\right]^\\prime \\Sigma \\left[ \\frac{1}{N} \\sum_{i=1}^{N} m \\left( X_i, \\theta \\right) \\right]\n",
    "$$\n",
    "を最小化するように$\\theta$を選ぶ．\n",
    "ここで，$\\Sigma$は正定値符号のウェイト行列であり，[最小距離推定（minimum distance estimation](https://en.wikipedia.org/wiki/Minimum-distance_estimation)の特別の場合である．"
   ]
  },
  {
   "cell_type": "markdown",
   "id": "796bb410",
   "metadata": {},
   "source": [
    "### 一致性"
   ]
  },
  {
   "cell_type": "markdown",
   "id": "cd50668a",
   "metadata": {},
   "source": [
    "目的関数最小化の1階の条件は\n",
    "$$\n",
    "\\left[ \\frac{1}{N} \\sum_{i=1}^{N}  \\frac{\\partial m \\left( X_i, \\theta \\right)}{\\partial \\theta^\\prime} \\right]^\\prime \\Sigma \\left[ \\frac{1}{N} \\sum_{i=1}^{N} m \\left( X_i, \\theta \\right) \\right] = 0\n",
    "$$\n",
    "であり，この条件を満たす未知パラメタを$\\bar{\\theta}$とする．\n",
    "平均値の定理より，$\\theta_\\ast \\in \\left( \\theta_0, \\bar{\\theta} \\right)$が存在して，\n",
    "$$\n",
    "m \\left( X_i, \\bar{\\theta} \\right) = m\\left(X_i, \\theta_0 \\right) + \\frac{\\partial m \\left( X_i, \\theta_\\ast \\right)}{\\partial \\theta^\\prime} \\left( \\bar{\\theta} - \\theta_0 \\right)\n",
    "$$\n",
    "を満たす．\n",
    "これを1階の条件式に代入してい，\n",
    "$$\n",
    "\\bar{\\theta} - \\theta_0 = \\left\\{ \\left[ \\frac{1}{N} \\sum_{i=1}^{N}  \\frac{\\partial m \\left( X_i, \\bar{\\theta} \\right)}{\\partial \\theta^\\prime} \\right]^\\prime \\Sigma \\left[ \\frac{1}{N} \\sum_{i=1}^{N}  \\frac{\\partial m \\left( X_i, \\theta_{\\ast} \\right)}{\\partial \\theta^\\prime} \\right] \\right\\}^{-1} \\times \\left[ \\frac{1}{N} \\sum_{i=1}^{N}  \\frac{\\partial m \\left( X_i, \\bar{\\theta} \\right)}{\\partial \\theta^\\prime} \\right]^\\prime \\Sigma \\left[ \\frac{1}{N} \\sum_{i=1}^{N} m \\left( X_i, \\theta_0 \\right) \\right]\n",
    "$$\n",
    "である．大数の法則から，\n",
    "$$\n",
    "\\frac{1}{N} \\sum_{i=1}^N m \\left( X_i, \\theta_0 \\right) \\xrightarrow{p} \\mathrm{E} \\left[ m \\left( X_i, \\theta_0 \\right) \\right] = 0\n",
    "$$\n",
    "であるため，それ以外の部分が有界かつ正則であれば$\\bar{\\theta} \\xrightarrow{p} \\theta_0$となる．\n",
    "\n",
    "\n",
    "\n",
    "$m \\left( X_i, \\theta \\right)$が$\\theta$について線形の場合，$\\partial m \\left( X_i, \\theta \\right) / \\partial \\theta^\\prime$は$\\theta$に依存しないため，\n",
    "$$\n",
    "M \\left(X_i\\right) = \\frac{ \\partial m \\left( X_i, \\theta \\right) }{ \\partial \\theta^\\prime}\n",
    "$$\n",
    "と置く．\n",
    "このとき，\n",
    "$$\n",
    "\\bar{\\theta} - \\theta_0 = \\left\\{ \\left[ \\frac{1}{N} \\sum_{i=1}^{N}  M \\left(X_i\\right) \\right]^\\prime \\Sigma \\left[ \\frac{1}{N} \\sum_{i=1}^{N}  M \\left(X_i\\right) \\right] \\right\\}^{-1} \\times \\left[ \\frac{1}{N} \\sum_{i=1}^{N} M \\left(X_i\\right) \\right]^\\prime \\Sigma \\left[ \\frac{1}{N} \\sum_{i=1}^{N} m \\left( X_i, \\theta_0 \\right) \\right]\n",
    "$$\n",
    "となる．$\\mathrm{E} \\left[ M \\left( X_i \\right) \\right]$が列フルランクならば，大数の法則とスルツキーの定理から$\\hat{\\theta}$は$\\theta_0$確率収束する．"
   ]
  },
  {
   "cell_type": "markdown",
   "id": "d696bad5",
   "metadata": {},
   "source": [
    "### 漸近正規性"
   ]
  },
  {
   "cell_type": "markdown",
   "id": "6c218447",
   "metadata": {},
   "source": [
    "$$\n",
    "\\sqrt{N} \\left( \\bar{\\theta} - \\theta_0 \\right) = \\left\\{ \\left[ \\frac{1}{N} \\sum_{i=1}^{N}  \\frac{\\partial m \\left( X_i, \\bar{\\theta} \\right)}{\\partial \\theta^\\prime} \\right]^\\prime \\Sigma \\left[ \\frac{1}{N} \\sum_{i=1}^{N}  \\frac{\\partial m \\left( X_i, \\theta_{\\ast} \\right)}{\\partial \\theta^\\prime} \\right] \\right\\}^{-1} \\times \\left[ \\frac{1}{N} \\sum_{i=1}^{N}  \\frac{\\partial m \\left( X_i, \\bar{\\theta} \\right)}{\\partial \\theta^\\prime} \\right]^\\prime \\Sigma \\left[ \\frac{1}{\\sqrt{N}} \\sum_{i=1}^{N} m \\left( X_i, \\theta_0 \\right) \\right]\n",
    "$$\n",
    "の分布収束を考える．$\\bar{\\theta}$の一致性から，\n",
    "$$\n",
    "\\frac{1}{N} \\sum_{i=1}^{N}  \\frac{\\partial m \\left( X_i, \\bar{\\theta} \\right)}{\\partial \\theta^\\prime} \\xrightarrow{p} \\mathrm{E} \\left[ \\frac{\\partial m \\left( X_i, \\theta_0 \\right)}{\\partial \\theta^\\prime} \\right]\n",
    "$$\n",
    "$$\n",
    "\\frac{1}{N} \\sum_{i=1}^{N}  \\frac{\\partial m \\left( X_i, \\theta_\\ast \\right)}{\\partial \\theta^\\prime} \\xrightarrow{p} \\mathrm{E} \\left[ \\frac{\\partial m \\left( X_i, \\theta_0 \\right)}{\\partial \\theta^\\prime} \\right]\n",
    "$$\n",
    "が成立し，中心極限定理より\n",
    "$$\n",
    "\\frac{1}{\\sqrt{N}} \\sum_{i=1}^N m \\left( X_i, \\theta_0 \\right) \\xrightarrow{d} N \\left( 0, V \\right), \\quad V = \\mathrm{Var} \\left[ m \\left( X_i, \\theta_0 \\right) \\right]\n",
    "$$\n",
    "であるので，結果\n",
    "$$\n",
    "\\sqrt{N} \\left( \\bar{\\theta} - \\theta_0 \\right) \\xrightarrow{d} N \\left( 0, \\Omega \\right), \\quad \\Omega = \\left(M^\\prime \\Sigma M \\right)^{-1} M^\\prime \\Sigma V \\Sigma M  \\left(M^\\prime \\Sigma M \\right)^{-1}\n",
    "$$\n",
    "となる．ここで，$M = \\mathrm{E} \\left[ \\partial m \\left( X_i, \\theta_0 \\right) / \\partial \\theta^\\prime \\right]$である．"
   ]
  },
  {
   "cell_type": "markdown",
   "id": "d22affa6",
   "metadata": {},
   "source": [
    "### 効率的GMM"
   ]
  },
  {
   "cell_type": "markdown",
   "id": "e725ab48",
   "metadata": {},
   "source": [
    "効率性の点で$\\Omega$は最小にするよう$\\Sigma$を選ぶことが望ましい．\n",
    "$\\Sigma = V^{-1}$と選べば，\n",
    "$$\n",
    "\\Omega = \\left( M^\\prime V^{-1} M \\right)^{-1}\n",
    "$$ \n",
    "となる．このとき\n",
    "$$\n",
    "\\left(M^\\prime \\Sigma M \\right)^{-1} M^\\prime \\Sigma V \\Sigma M  \\left(M^\\prime \\Sigma M \\right)^{-1} - \\left( M^\\prime V^{-1} M \\right)^{-1} = \\left( M^\\prime V^{-1} M \\right)^{-1} M^\\prime \\Sigma V^{1/2} \\left[ I - V^{-1/2} M \\left( M^\\prime V^{-1} M \\right)^{-1} M^\\prime \\left( V^{-1/2} \\right)^\\prime \\right] \\times \\left( V^{1/2} \\right)^\\prime \\Sigma M \\left( M^\\prime V^{-1} M \\right)^{-1}\n",
    "$$\n",
    "であり，$I - V^{-1/2} M \\left( M^\\prime V^{-1} M \\right)^{-1} M^\\prime \\left( V^{-1/2} \\right)^\\prime$はべき等行列より半正定値符号なので，\n",
    "$$\n",
    "\\left(M^\\prime \\Sigma M \\right)^{-1} M^\\prime \\Sigma V \\Sigma M  \\left(M^\\prime \\Sigma M \\right)^{-1} \\ge \\left( M^\\prime V^{-1} M \\right)^{-1}\n",
    "$$\n",
    "となる．\n",
    "したがって，ウェイト行列を$V^{-1}$と選ぶと漸近分散$\\Omega$を最小化することができ，$V^{-1}$は効率的なウェイトと呼ばれる．\n",
    "\n",
    "\n",
    "一方，$V$は未知であるので，推定する必要がある．$\\theta_0$が既知であれば，\n",
    "$$\n",
    "\\frac{1}{N} \\sum_{i=1}^{N} m \\left( X_i, \\theta_0 \\right) m \\left( X_i, \\theta_0 \\right)^\\prime\n",
    "$$\n",
    "によって推定できるが，$\\theta_0$は未知であるので，他の方法を検討する必要があるが，その一つとして2段階GMMがある．\n",
    "\n",
    "まず，$\\Sigma = I$として，\n",
    "$$\n",
    "\\tilde{\\theta} = \\mathrm{argmin}_{\\theta} \\left[ \\frac{1}{N} \\sum_{i=1}^N m \\left( X_i, \\theta \\right) \\right]^\\prime \\left[ \\frac{1}{N} \\sum_{i=1}^N m \\left( X_i, \\theta \\right) \\right]\n",
    "$$\n",
    "を推定する（一段階目）．データがi.i.d.の場合，それを用いて，\n",
    "$$\n",
    "\\tilde{V}^{-1} = \\left[ \\frac{1}{N} \\sum_{i=1}^N m\\left( X_i, \\tilde{\\theta} \\right) m\\left( X_i, \\tilde{\\theta} \\right)^\\prime \\right]^{-1}\n",
    "$$\n",
    "によって$V$を推定し，\n",
    "$$\n",
    "\\min_{\\theta} \\left[ \\frac{1}{N} \\sum_{i=1}^N m \\left( X_i, \\theta \\right) \\right]^\\prime \\tilde{V}^{-1} \\left[ \\frac{1}{N} \\sum_{i=1}^N m \\left( X_i, \\theta \\right) \\right]\n",
    "$$\n",
    "により$\\theta$の推定量を得る．"
   ]
  },
  {
   "cell_type": "markdown",
   "id": "0bfe6218",
   "metadata": {},
   "source": [
    "### $J$検定"
   ]
  },
  {
   "cell_type": "markdown",
   "id": "69280e4a",
   "metadata": {},
   "source": [
    "モーメント条件が正しければ，GMM推定量は一致性を持つが，そうでなければ一般に一致性は失われる．\n",
    "モーメント条件が正しいか否かを確かめるために$J$検定がある．\n",
    "帰無仮説$H_0$は\n",
    "$$\n",
    "\\exists \\theta_0 \\text{ s.t. } \\mathrm{E} \\left[ m \\left( X_i, \\theta_0 \\right) \\right] = 0\n",
    "$$\n",
    "その検定統計量は\n",
    "$$\n",
    "J = \\left[ \\frac{1}{\\sqrt{N}} \\sum_{i=1}^N m \\left( X_i, \\tilde{\\theta} \\right) \\right]^\\prime \\tilde{V}^{-1} \\left[ \\frac{1}{\\sqrt{N}} \\sum_{i=1}^N m \\left( X_i, \\tilde{\\theta} \\right) \\right]\n",
    "$$\n",
    "であり，帰無仮説が正しければ，\n",
    "$$\n",
    "J \\xrightarrow{d} \\chi^2_{L-k}\n",
    "$$\n",
    "となる．"
   ]
  },
  {
   "cell_type": "markdown",
   "id": "cccad29f",
   "metadata": {},
   "source": [
    "## 2段階最小2乗法（2SLS）"
   ]
  },
  {
   "cell_type": "markdown",
   "id": "869106e2",
   "metadata": {},
   "source": [
    "### GMMと2SLSの関係"
   ]
  },
  {
   "cell_type": "markdown",
   "id": "546e4d44",
   "metadata": {},
   "source": [
    "以下の線形モデルを考える．\n",
    "$$\n",
    "Y_i = \\beta_0 + \\beta_1 X_{1i} + \\cdots + \\beta_k X_{ki} + \\gamma_1 W_{1i} + \\cdots + \\gamma_p W_{pi} + u_i = \\beta^\\prime X_i + \\gamma^\\prime W_i + u_i\n",
    "$$\n",
    "\n",
    "ここで，$X_{1i}, \\ldots, X_{ki}$は内生変数（Endogenous variables）であり，$W_{1i}, \\ldots, W_{pi}$は外生変数（Exogenous variables）である．$Z_{1i}, \\ldots, Z_{Li}$を操作変数とし，$L \\ge k + 1 + p$であるとする．"
   ]
  },
  {
   "cell_type": "code",
   "execution_count": null,
   "id": "25fc0486",
   "metadata": {},
   "outputs": [],
   "source": []
  }
 ],
 "metadata": {
  "kernelspec": {
   "display_name": "Python 3 (ipykernel)",
   "language": "python",
   "name": "python3"
  },
  "language_info": {
   "codemirror_mode": {
    "name": "ipython",
    "version": 3
   },
   "file_extension": ".py",
   "mimetype": "text/x-python",
   "name": "python",
   "nbconvert_exporter": "python",
   "pygments_lexer": "ipython3",
   "version": "3.8.10"
  }
 },
 "nbformat": 4,
 "nbformat_minor": 5
}
